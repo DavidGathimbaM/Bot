{
 "cells": [
  {
   "cell_type": "markdown",
   "metadata": {},
   "source": [
    "### EURUSD"
   ]
  },
  {
   "cell_type": "code",
   "execution_count": 13,
   "metadata": {},
   "outputs": [],
   "source": [
    "import pandas as pd\n",
    "import csv\n",
    "import matplotlib.pyplot as plt"
   ]
  },
  {
   "cell_type": "code",
   "execution_count": 14,
   "metadata": {},
   "outputs": [
    {
     "data": {
      "text/html": [
       "<div>\n",
       "<style scoped>\n",
       "    .dataframe tbody tr th:only-of-type {\n",
       "        vertical-align: middle;\n",
       "    }\n",
       "\n",
       "    .dataframe tbody tr th {\n",
       "        vertical-align: top;\n",
       "    }\n",
       "\n",
       "    .dataframe thead th {\n",
       "        text-align: right;\n",
       "    }\n",
       "</style>\n",
       "<table border=\"1\" class=\"dataframe\">\n",
       "  <thead>\n",
       "    <tr style=\"text-align: right;\">\n",
       "      <th></th>\n",
       "      <th>2024-06-11 00:33\\t1.07618\\t1.07623\\t1.07618\\t1.07618\\t82</th>\n",
       "    </tr>\n",
       "  </thead>\n",
       "  <tbody>\n",
       "    <tr>\n",
       "      <th>0</th>\n",
       "      <td>2024-06-11 00:34\\t1.07619\\t1.07621\\t1.07616\\t1...</td>\n",
       "    </tr>\n",
       "    <tr>\n",
       "      <th>1</th>\n",
       "      <td>2024-06-11 00:35\\t1.07619\\t1.07621\\t1.07616\\t1...</td>\n",
       "    </tr>\n",
       "    <tr>\n",
       "      <th>2</th>\n",
       "      <td>2024-06-11 00:36\\t1.07619\\t1.07626\\t1.07619\\t1...</td>\n",
       "    </tr>\n",
       "    <tr>\n",
       "      <th>3</th>\n",
       "      <td>2024-06-11 00:37\\t1.07624\\t1.07624\\t1.07622\\t1...</td>\n",
       "    </tr>\n",
       "    <tr>\n",
       "      <th>4</th>\n",
       "      <td>2024-06-11 00:38\\t1.07624\\t1.07626\\t1.07622\\t1...</td>\n",
       "    </tr>\n",
       "  </tbody>\n",
       "</table>\n",
       "</div>"
      ],
      "text/plain": [
       "  2024-06-11 00:33\\t1.07618\\t1.07623\\t1.07618\\t1.07618\\t82\n",
       "0  2024-06-11 00:34\\t1.07619\\t1.07621\\t1.07616\\t1...      \n",
       "1  2024-06-11 00:35\\t1.07619\\t1.07621\\t1.07616\\t1...      \n",
       "2  2024-06-11 00:36\\t1.07619\\t1.07626\\t1.07619\\t1...      \n",
       "3  2024-06-11 00:37\\t1.07624\\t1.07624\\t1.07622\\t1...      \n",
       "4  2024-06-11 00:38\\t1.07624\\t1.07626\\t1.07622\\t1...      "
      ]
     },
     "execution_count": 14,
     "metadata": {},
     "output_type": "execute_result"
    }
   ],
   "source": [
    "eurusd_1 = pd.read_csv(\"data/EURUSD1.CSV\")\n",
    "eurusd_1.head()"
   ]
  },
  {
   "cell_type": "code",
   "execution_count": 15,
   "metadata": {},
   "outputs": [],
   "source": [
    "if len(eurusd_1.columns) == 1:\n",
    "    eurusd_1 = eurusd_1[eurusd_1.columns[0]].str.split('\\t', expand=True)"
   ]
  },
  {
   "cell_type": "code",
   "execution_count": 16,
   "metadata": {},
   "outputs": [],
   "source": [
    "# Standardize column names\n",
    "eurusd_1.columns = ['DateTime', 'Open', 'High', 'Low', 'Close', 'Volume']"
   ]
  },
  {
   "cell_type": "code",
   "execution_count": 17,
   "metadata": {},
   "outputs": [
    {
     "data": {
      "text/html": [
       "<div>\n",
       "<style scoped>\n",
       "    .dataframe tbody tr th:only-of-type {\n",
       "        vertical-align: middle;\n",
       "    }\n",
       "\n",
       "    .dataframe tbody tr th {\n",
       "        vertical-align: top;\n",
       "    }\n",
       "\n",
       "    .dataframe thead th {\n",
       "        text-align: right;\n",
       "    }\n",
       "</style>\n",
       "<table border=\"1\" class=\"dataframe\">\n",
       "  <thead>\n",
       "    <tr style=\"text-align: right;\">\n",
       "      <th></th>\n",
       "      <th>DateTime</th>\n",
       "      <th>Open</th>\n",
       "      <th>High</th>\n",
       "      <th>Low</th>\n",
       "      <th>Close</th>\n",
       "      <th>Volume</th>\n",
       "    </tr>\n",
       "  </thead>\n",
       "  <tbody>\n",
       "    <tr>\n",
       "      <th>0</th>\n",
       "      <td>2024-06-11 00:34</td>\n",
       "      <td>1.07619</td>\n",
       "      <td>1.07621</td>\n",
       "      <td>1.07616</td>\n",
       "      <td>1.07620</td>\n",
       "      <td>109</td>\n",
       "    </tr>\n",
       "    <tr>\n",
       "      <th>1</th>\n",
       "      <td>2024-06-11 00:35</td>\n",
       "      <td>1.07619</td>\n",
       "      <td>1.07621</td>\n",
       "      <td>1.07616</td>\n",
       "      <td>1.07621</td>\n",
       "      <td>55</td>\n",
       "    </tr>\n",
       "    <tr>\n",
       "      <th>2</th>\n",
       "      <td>2024-06-11 00:36</td>\n",
       "      <td>1.07619</td>\n",
       "      <td>1.07626</td>\n",
       "      <td>1.07619</td>\n",
       "      <td>1.07623</td>\n",
       "      <td>54</td>\n",
       "    </tr>\n",
       "    <tr>\n",
       "      <th>3</th>\n",
       "      <td>2024-06-11 00:37</td>\n",
       "      <td>1.07624</td>\n",
       "      <td>1.07624</td>\n",
       "      <td>1.07622</td>\n",
       "      <td>1.07623</td>\n",
       "      <td>110</td>\n",
       "    </tr>\n",
       "    <tr>\n",
       "      <th>4</th>\n",
       "      <td>2024-06-11 00:38</td>\n",
       "      <td>1.07624</td>\n",
       "      <td>1.07626</td>\n",
       "      <td>1.07622</td>\n",
       "      <td>1.07623</td>\n",
       "      <td>75</td>\n",
       "    </tr>\n",
       "  </tbody>\n",
       "</table>\n",
       "</div>"
      ],
      "text/plain": [
       "           DateTime     Open     High      Low    Close Volume\n",
       "0  2024-06-11 00:34  1.07619  1.07621  1.07616  1.07620    109\n",
       "1  2024-06-11 00:35  1.07619  1.07621  1.07616  1.07621     55\n",
       "2  2024-06-11 00:36  1.07619  1.07626  1.07619  1.07623     54\n",
       "3  2024-06-11 00:37  1.07624  1.07624  1.07622  1.07623    110\n",
       "4  2024-06-11 00:38  1.07624  1.07626  1.07622  1.07623     75"
      ]
     },
     "execution_count": 17,
     "metadata": {},
     "output_type": "execute_result"
    }
   ],
   "source": [
    "eurusd_1.head()"
   ]
  },
  {
   "cell_type": "markdown",
   "metadata": {},
   "source": [
    "#### Data cleaning"
   ]
  },
  {
   "cell_type": "markdown",
   "metadata": {},
   "source": [
    "Convert to datetime"
   ]
  },
  {
   "cell_type": "code",
   "execution_count": 18,
   "metadata": {},
   "outputs": [],
   "source": [
    "# Convert DateTime column to datetime\n",
    "eurusd_1['DateTime'] = pd.to_datetime(eurusd_1['DateTime'])"
   ]
  },
  {
   "cell_type": "code",
   "execution_count": 19,
   "metadata": {},
   "outputs": [
    {
     "data": {
      "text/html": [
       "<div>\n",
       "<style scoped>\n",
       "    .dataframe tbody tr th:only-of-type {\n",
       "        vertical-align: middle;\n",
       "    }\n",
       "\n",
       "    .dataframe tbody tr th {\n",
       "        vertical-align: top;\n",
       "    }\n",
       "\n",
       "    .dataframe thead th {\n",
       "        text-align: right;\n",
       "    }\n",
       "</style>\n",
       "<table border=\"1\" class=\"dataframe\">\n",
       "  <thead>\n",
       "    <tr style=\"text-align: right;\">\n",
       "      <th></th>\n",
       "      <th>DateTime</th>\n",
       "      <th>Open</th>\n",
       "      <th>High</th>\n",
       "      <th>Low</th>\n",
       "      <th>Close</th>\n",
       "      <th>Volume</th>\n",
       "    </tr>\n",
       "  </thead>\n",
       "  <tbody>\n",
       "    <tr>\n",
       "      <th>0</th>\n",
       "      <td>2024-06-11 00:34:00</td>\n",
       "      <td>1.07619</td>\n",
       "      <td>1.07621</td>\n",
       "      <td>1.07616</td>\n",
       "      <td>1.07620</td>\n",
       "      <td>109</td>\n",
       "    </tr>\n",
       "    <tr>\n",
       "      <th>1</th>\n",
       "      <td>2024-06-11 00:35:00</td>\n",
       "      <td>1.07619</td>\n",
       "      <td>1.07621</td>\n",
       "      <td>1.07616</td>\n",
       "      <td>1.07621</td>\n",
       "      <td>55</td>\n",
       "    </tr>\n",
       "    <tr>\n",
       "      <th>2</th>\n",
       "      <td>2024-06-11 00:36:00</td>\n",
       "      <td>1.07619</td>\n",
       "      <td>1.07626</td>\n",
       "      <td>1.07619</td>\n",
       "      <td>1.07623</td>\n",
       "      <td>54</td>\n",
       "    </tr>\n",
       "    <tr>\n",
       "      <th>3</th>\n",
       "      <td>2024-06-11 00:37:00</td>\n",
       "      <td>1.07624</td>\n",
       "      <td>1.07624</td>\n",
       "      <td>1.07622</td>\n",
       "      <td>1.07623</td>\n",
       "      <td>110</td>\n",
       "    </tr>\n",
       "    <tr>\n",
       "      <th>4</th>\n",
       "      <td>2024-06-11 00:38:00</td>\n",
       "      <td>1.07624</td>\n",
       "      <td>1.07626</td>\n",
       "      <td>1.07622</td>\n",
       "      <td>1.07623</td>\n",
       "      <td>75</td>\n",
       "    </tr>\n",
       "  </tbody>\n",
       "</table>\n",
       "</div>"
      ],
      "text/plain": [
       "             DateTime     Open     High      Low    Close Volume\n",
       "0 2024-06-11 00:34:00  1.07619  1.07621  1.07616  1.07620    109\n",
       "1 2024-06-11 00:35:00  1.07619  1.07621  1.07616  1.07621     55\n",
       "2 2024-06-11 00:36:00  1.07619  1.07626  1.07619  1.07623     54\n",
       "3 2024-06-11 00:37:00  1.07624  1.07624  1.07622  1.07623    110\n",
       "4 2024-06-11 00:38:00  1.07624  1.07626  1.07622  1.07623     75"
      ]
     },
     "execution_count": 19,
     "metadata": {},
     "output_type": "execute_result"
    }
   ],
   "source": [
    "eurusd_1.head()"
   ]
  },
  {
   "cell_type": "code",
   "execution_count": 20,
   "metadata": {},
   "outputs": [],
   "source": [
    "# Sort by DateTime\n",
    "eurusd_1 = eurusd_1.sort_values('DateTime').reset_index(drop=True)"
   ]
  },
  {
   "cell_type": "code",
   "execution_count": 21,
   "metadata": {},
   "outputs": [
    {
     "data": {
      "text/html": [
       "<div>\n",
       "<style scoped>\n",
       "    .dataframe tbody tr th:only-of-type {\n",
       "        vertical-align: middle;\n",
       "    }\n",
       "\n",
       "    .dataframe tbody tr th {\n",
       "        vertical-align: top;\n",
       "    }\n",
       "\n",
       "    .dataframe thead th {\n",
       "        text-align: right;\n",
       "    }\n",
       "</style>\n",
       "<table border=\"1\" class=\"dataframe\">\n",
       "  <thead>\n",
       "    <tr style=\"text-align: right;\">\n",
       "      <th></th>\n",
       "      <th>DateTime</th>\n",
       "      <th>Open</th>\n",
       "      <th>High</th>\n",
       "      <th>Low</th>\n",
       "      <th>Close</th>\n",
       "      <th>Volume</th>\n",
       "    </tr>\n",
       "  </thead>\n",
       "  <tbody>\n",
       "    <tr>\n",
       "      <th>0</th>\n",
       "      <td>2024-06-11 00:34:00</td>\n",
       "      <td>1.07619</td>\n",
       "      <td>1.07621</td>\n",
       "      <td>1.07616</td>\n",
       "      <td>1.07620</td>\n",
       "      <td>109</td>\n",
       "    </tr>\n",
       "    <tr>\n",
       "      <th>1</th>\n",
       "      <td>2024-06-11 00:35:00</td>\n",
       "      <td>1.07619</td>\n",
       "      <td>1.07621</td>\n",
       "      <td>1.07616</td>\n",
       "      <td>1.07621</td>\n",
       "      <td>55</td>\n",
       "    </tr>\n",
       "    <tr>\n",
       "      <th>2</th>\n",
       "      <td>2024-06-11 00:36:00</td>\n",
       "      <td>1.07619</td>\n",
       "      <td>1.07626</td>\n",
       "      <td>1.07619</td>\n",
       "      <td>1.07623</td>\n",
       "      <td>54</td>\n",
       "    </tr>\n",
       "    <tr>\n",
       "      <th>3</th>\n",
       "      <td>2024-06-11 00:37:00</td>\n",
       "      <td>1.07624</td>\n",
       "      <td>1.07624</td>\n",
       "      <td>1.07622</td>\n",
       "      <td>1.07623</td>\n",
       "      <td>110</td>\n",
       "    </tr>\n",
       "    <tr>\n",
       "      <th>4</th>\n",
       "      <td>2024-06-11 00:38:00</td>\n",
       "      <td>1.07624</td>\n",
       "      <td>1.07626</td>\n",
       "      <td>1.07622</td>\n",
       "      <td>1.07623</td>\n",
       "      <td>75</td>\n",
       "    </tr>\n",
       "  </tbody>\n",
       "</table>\n",
       "</div>"
      ],
      "text/plain": [
       "             DateTime     Open     High      Low    Close Volume\n",
       "0 2024-06-11 00:34:00  1.07619  1.07621  1.07616  1.07620    109\n",
       "1 2024-06-11 00:35:00  1.07619  1.07621  1.07616  1.07621     55\n",
       "2 2024-06-11 00:36:00  1.07619  1.07626  1.07619  1.07623     54\n",
       "3 2024-06-11 00:37:00  1.07624  1.07624  1.07622  1.07623    110\n",
       "4 2024-06-11 00:38:00  1.07624  1.07626  1.07622  1.07623     75"
      ]
     },
     "execution_count": 21,
     "metadata": {},
     "output_type": "execute_result"
    }
   ],
   "source": [
    "eurusd_1.head()"
   ]
  },
  {
   "cell_type": "markdown",
   "metadata": {},
   "source": [
    "Convert numeric columns to float\n"
   ]
  },
  {
   "cell_type": "code",
   "execution_count": 24,
   "metadata": {},
   "outputs": [],
   "source": [
    "for col in ['Open', 'High', 'Low', 'Close', 'Volume']:\n",
    "    eurusd_1[col] = pd.to_numeric(eurusd_1[col], errors='coerce')\n"
   ]
  },
  {
   "cell_type": "markdown",
   "metadata": {},
   "source": [
    "Handle Missing values"
   ]
  },
  {
   "cell_type": "code",
   "execution_count": 26,
   "metadata": {},
   "outputs": [
    {
     "data": {
      "text/plain": [
       "DateTime    0\n",
       "Open        0\n",
       "High        0\n",
       "Low         0\n",
       "Close       0\n",
       "Volume      0\n",
       "dtype: int64"
      ]
     },
     "execution_count": 26,
     "metadata": {},
     "output_type": "execute_result"
    }
   ],
   "source": [
    "# Check for missing values\n",
    "missing_values = eurusd_1.isnull().sum()\n",
    "missing_values"
   ]
  },
  {
   "cell_type": "code",
   "execution_count": 28,
   "metadata": {},
   "outputs": [
    {
     "data": {
      "text/html": [
       "<div>\n",
       "<style scoped>\n",
       "    .dataframe tbody tr th:only-of-type {\n",
       "        vertical-align: middle;\n",
       "    }\n",
       "\n",
       "    .dataframe tbody tr th {\n",
       "        vertical-align: top;\n",
       "    }\n",
       "\n",
       "    .dataframe thead th {\n",
       "        text-align: right;\n",
       "    }\n",
       "</style>\n",
       "<table border=\"1\" class=\"dataframe\">\n",
       "  <thead>\n",
       "    <tr style=\"text-align: right;\">\n",
       "      <th></th>\n",
       "      <th>DateTime</th>\n",
       "      <th>Open</th>\n",
       "      <th>High</th>\n",
       "      <th>Low</th>\n",
       "      <th>Close</th>\n",
       "      <th>Volume</th>\n",
       "    </tr>\n",
       "  </thead>\n",
       "  <tbody>\n",
       "    <tr>\n",
       "      <th>count</th>\n",
       "      <td>195543</td>\n",
       "      <td>195543.000000</td>\n",
       "      <td>195543.000000</td>\n",
       "      <td>195543.000000</td>\n",
       "      <td>195543.000000</td>\n",
       "      <td>195543.000000</td>\n",
       "    </tr>\n",
       "    <tr>\n",
       "      <th>mean</th>\n",
       "      <td>2024-09-16 10:39:16.669888256</td>\n",
       "      <td>1.083573</td>\n",
       "      <td>1.083634</td>\n",
       "      <td>1.083511</td>\n",
       "      <td>1.083572</td>\n",
       "      <td>179.049524</td>\n",
       "    </tr>\n",
       "    <tr>\n",
       "      <th>min</th>\n",
       "      <td>2024-06-11 00:34:00</td>\n",
       "      <td>1.033960</td>\n",
       "      <td>1.034660</td>\n",
       "      <td>1.033250</td>\n",
       "      <td>1.033980</td>\n",
       "      <td>1.000000</td>\n",
       "    </tr>\n",
       "    <tr>\n",
       "      <th>25%</th>\n",
       "      <td>2024-07-30 03:40:30</td>\n",
       "      <td>1.070560</td>\n",
       "      <td>1.070610</td>\n",
       "      <td>1.070510</td>\n",
       "      <td>1.070550</td>\n",
       "      <td>60.000000</td>\n",
       "    </tr>\n",
       "    <tr>\n",
       "      <th>50%</th>\n",
       "      <td>2024-09-17 02:48:00</td>\n",
       "      <td>1.084680</td>\n",
       "      <td>1.084730</td>\n",
       "      <td>1.084620</td>\n",
       "      <td>1.084680</td>\n",
       "      <td>128.000000</td>\n",
       "    </tr>\n",
       "    <tr>\n",
       "      <th>75%</th>\n",
       "      <td>2024-11-05 01:48:30</td>\n",
       "      <td>1.101270</td>\n",
       "      <td>1.101310</td>\n",
       "      <td>1.101240</td>\n",
       "      <td>1.101270</td>\n",
       "      <td>234.000000</td>\n",
       "    </tr>\n",
       "    <tr>\n",
       "      <th>max</th>\n",
       "      <td>2024-12-23 16:59:00</td>\n",
       "      <td>1.121220</td>\n",
       "      <td>1.121400</td>\n",
       "      <td>1.121070</td>\n",
       "      <td>1.121220</td>\n",
       "      <td>4376.000000</td>\n",
       "    </tr>\n",
       "    <tr>\n",
       "      <th>std</th>\n",
       "      <td>NaN</td>\n",
       "      <td>0.021176</td>\n",
       "      <td>0.021168</td>\n",
       "      <td>0.021184</td>\n",
       "      <td>0.021176</td>\n",
       "      <td>182.381894</td>\n",
       "    </tr>\n",
       "  </tbody>\n",
       "</table>\n",
       "</div>"
      ],
      "text/plain": [
       "                            DateTime           Open           High  \\\n",
       "count                         195543  195543.000000  195543.000000   \n",
       "mean   2024-09-16 10:39:16.669888256       1.083573       1.083634   \n",
       "min              2024-06-11 00:34:00       1.033960       1.034660   \n",
       "25%              2024-07-30 03:40:30       1.070560       1.070610   \n",
       "50%              2024-09-17 02:48:00       1.084680       1.084730   \n",
       "75%              2024-11-05 01:48:30       1.101270       1.101310   \n",
       "max              2024-12-23 16:59:00       1.121220       1.121400   \n",
       "std                              NaN       0.021176       0.021168   \n",
       "\n",
       "                 Low          Close         Volume  \n",
       "count  195543.000000  195543.000000  195543.000000  \n",
       "mean        1.083511       1.083572     179.049524  \n",
       "min         1.033250       1.033980       1.000000  \n",
       "25%         1.070510       1.070550      60.000000  \n",
       "50%         1.084620       1.084680     128.000000  \n",
       "75%         1.101240       1.101270     234.000000  \n",
       "max         1.121070       1.121220    4376.000000  \n",
       "std         0.021184       0.021176     182.381894  "
      ]
     },
     "execution_count": 28,
     "metadata": {},
     "output_type": "execute_result"
    }
   ],
   "source": [
    "# Exploratory Data Analysis\n",
    "eurusd_1.describe()"
   ]
  },
  {
   "cell_type": "code",
   "execution_count": 23,
   "metadata": {},
   "outputs": [
    {
     "data": {
      "image/png": "[encoded data removed]",
      "text/plain": [
       "<Figure size 1200x600 with 1 Axes>"
      ]
     },
     "metadata": {},
     "output_type": "display_data"
    }
   ],
   "source": [
    "# Visualize Close prices over time\n",
    "plt.figure(figsize=(12, 6))\n",
    "plt.plot(eurusd_1['DateTime'], eurusd_1['Close'], label='Close Price')\n",
    "plt.title('EURUSD 1-Minute Close Price')\n",
    "plt.xlabel('DateTime')\n",
    "plt.ylabel('Close Price')\n",
    "plt.legend()\n",
    "plt.grid()\n",
    "plt.show()"
   ]
  },
  {
   "cell_type": "markdown",
   "metadata": {},
   "source": [
    "#### Feature engineering"
   ]
  },
  {
   "cell_type": "code",
   "execution_count": 29,
   "metadata": {},
   "outputs": [],
   "source": [
    "# Feature Engineering\n",
    "def calculate_features(df):\n",
    "    # Moving Averages\n",
    "    df['SMA_5'] = df['Close'].rolling(window=5).mean()\n",
    "    df['SMA_15'] = df['Close'].rolling(window=15).mean()\n",
    "\n",
    "    # RSI Calculation\n",
    "    delta = df['Close'].diff()\n",
    "    gain = (delta.where(delta > 0, 0)).rolling(window=14).mean()\n",
    "    loss = (-delta.where(delta < 0, 0)).rolling(window=14).mean()\n",
    "    rs = gain / loss\n",
    "    df['RSI_14'] = 100 - (100 / (1 + rs))\n",
    "\n",
    "    return df"
   ]
  },
  {
   "cell_type": "code",
   "execution_count": 30,
   "metadata": {},
   "outputs": [
    {
     "name": "stdout",
     "output_type": "stream",
     "text": [
      "                  DateTime    Close     SMA_5     RSI_14\n",
      "195538 2024-12-23 16:55:00  1.04080  1.040632  58.333333\n",
      "195539 2024-12-23 16:56:00  1.04081  1.040642  55.665025\n",
      "195540 2024-12-23 16:57:00  1.04094  1.040724  50.549451\n",
      "195541 2024-12-23 16:58:00  1.04072  1.040754  49.197861\n",
      "195542 2024-12-23 16:59:00  1.04077  1.040808  58.787879\n"
     ]
    }
   ],
   "source": [
    "eurusd_15m = calculate_features(eurusd_1)\n",
    "\n",
    "# Display with new features\n",
    "print(eurusd_15m[['DateTime', 'Close', 'SMA_5', 'RSI_14']].tail())"
   ]
  },
  {
   "cell_type": "code",
   "execution_count": null,
   "metadata": {},
   "outputs": [],
   "source": []
  }
 ],
 "metadata": {
  "kernelspec": {
   "display_name": "base",
   "language": "python",
   "name": "python3"
  },
  "language_info": {
   "codemirror_mode": {
    "name": "ipython",
    "version": 3
   },
   "file_extension": ".py",
   "mimetype": "text/x-python",
   "name": "python",
   "nbconvert_exporter": "python",
   "pygments_lexer": "ipython3",
   "version": "3.11.10"
  }
 },
 "nbformat": 4,
 "nbformat_minor": 2
}
