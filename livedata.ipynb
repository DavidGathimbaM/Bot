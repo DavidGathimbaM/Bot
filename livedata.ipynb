{
 "cells": [
  {
   "cell_type": "code",
   "execution_count": 3,
   "metadata": {},
   "outputs": [],
   "source": [
    "import MetaTrader5 as mt5\n",
    "import pandas as pd\n",
    "from time import sleep\n",
    "from joblib import load\n",
    "import ta  # For indicators like RSI, MACD, etc."
   ]
  },
  {
   "cell_type": "code",
   "execution_count": 4,
   "metadata": {},
   "outputs": [],
   "source": [
    "if not mt5.initialize():\n",
    "    print(\"MetaTrader5 initialization failed\")\n",
    "    mt5.shutdown()\n",
    "else:\n",
    "    print(\"MetaTrader5 initialized successfully\")"
   ]
  },
  {
   "cell_type": "code",
   "execution_count": null,
   "metadata": {},
   "outputs": [],
   "source": [
    "account_info = mt5.account_info()\n",
    "if account_info is not None:\n",
    "    print(f\"Account Info:\\n{account_info}\")\n",
    "else:\n",
    "    print(\"Failed to retrieve account info\")"
   ]
  },
  {
   "cell_type": "code",
   "execution_count": 7,
   "metadata": {},
   "outputs": [],
   "source": [
    "# Load Pre-trained Random Forest Model\n",
    "model = load(\"../random_forest_forex_model.pkl\")  # Replace with your model path\n"
   ]
  },
  {
   "cell_type": "code",
   "execution_count": 8,
   "metadata": {},
   "outputs": [],
   "source": [
    "# Define symbol and parameters\n",
    "symbol = \"EURUSD\"\n",
    "timeframe = mt5.TIMEFRAME_M1\n",
    "num_bars = 50  # Minimum data required for feature calculation\n"
   ]
  },
  {
   "cell_type": "code",
   "execution_count": 12,
   "metadata": {},
   "outputs": [],
   "source": [
    "def add_indicators(df):\n",
    "    # Exponential Moving Averages\n",
    "    df['EMA_5'] = df['Close'].ewm(span=5, adjust=False).mean()\n",
    "    df['EMA_15'] = df['Close'].ewm(span=15, adjust=False).mean()\n",
    "    df['EMA_50'] = df['Close'].ewm(span=50, adjust=False).mean()\n",
    "\n",
    "    # Simple Moving Averages\n",
    "    df['SMA_5'] = df['Close'].rolling(window=5).mean()\n",
    "    df['SMA_15'] = df['Close'].rolling(window=15).mean()\n",
    "    df['SMA_50'] = df['Close'].rolling(window=50).mean()\n",
    "\n",
    "    # Bollinger Bands\n",
    "    df['BB_Middle'] = df['Close'].rolling(window=20).mean()\n",
    "    df['BB_Upper'] = df['BB_Middle'] + 2 * df['Close'].rolling(window=20).std()\n",
    "    df['BB_Lower'] = df['BB_Middle'] - 2 * df['Close'].rolling(window=20).std()\n",
    "\n",
    "    # True Range and Average True Range\n",
    "    df['TR'] = abs(df['High'] - df['Low'])\n",
    "    df['ATR'] = df['TR'].rolling(window=14).mean()\n",
    "    df['ATR_14'] = df['ATR']\n",
    "\n",
    "    # Relative Strength Index (RSI)\n",
    "    delta = df['Close'].diff()\n",
    "    gain = (delta.where(delta > 0, 0)).rolling(window=14).mean()\n",
    "    loss = (-delta.where(delta < 0, 0)).rolling(window=14).mean()\n",
    "    rs = gain / loss\n",
    "    df['RSI_14'] = 100 - (100 / (1 + rs))\n",
    "\n",
    "    # Moving Average Convergence Divergence (MACD)\n",
    "    ema_12 = df['Close'].ewm(span=12, adjust=False).mean()\n",
    "    ema_26 = df['Close'].ewm(span=26, adjust=False).mean()\n",
    "    df['MACD'] = ema_12 - ema_26\n",
    "    df['MACD_Signal'] = df['MACD'].ewm(span=9, adjust=False).mean()\n",
    "\n",
    "    # Average Directional Index (ADX)\n",
    "    high_low = df['High'] - df['Low']\n",
    "    high_close = abs(df['High'] - df['Close'].shift(1))\n",
    "    low_close = abs(df['Low'] - df['Close'].shift(1))\n",
    "    true_range = pd.concat([high_low, high_close, low_close], axis=1).max(axis=1)\n",
    "    df['ATR_14'] = true_range.rolling(window=14).mean()\n",
    "    plus_dm = (df['High'] - df['High'].shift(1)).where((df['High'] - df['High'].shift(1)) > (df['Low'].shift(1) - df['Low']), 0)\n",
    "    minus_dm = (df['Low'].shift(1) - df['Low']).where((df['Low'].shift(1) - df['Low']) > (df['High'] - df['High'].shift(1)), 0)\n",
    "    plus_di = 100 * (plus_dm.rolling(window=14).sum() / df['ATR_14'])\n",
    "    minus_di = 100 * (minus_dm.rolling(window=14).sum() / df['ATR_14'])\n",
    "    dx = 100 * (abs(plus_di - minus_di) / (plus_di + minus_di))\n",
    "    df['ADX_14'] = dx.rolling(window=14).mean()\n",
    "\n",
    "    # Stochastic Oscillator\n",
    "    df['Stochastic_%K'] = ((df['Close'] - df['Low'].rolling(window=14).min()) /\n",
    "                           (df['High'].rolling(window=14).max() - df['Low'].rolling(window=14).min())) * 100\n",
    "    df['Stochastic_%D'] = df['Stochastic_%K'].rolling(window=3).mean()\n",
    "\n",
    "    # Williams %R\n",
    "    df['Williams_%R'] = ((df['High'].rolling(window=14).max() - df['Close']) /\n",
    "                         (df['High'].rolling(window=14).max() - df['Low'].rolling(window=14).min())) * -100\n",
    "\n",
    "    # Chandelier Exit\n",
    "    df['Chandelier_Exit_Long'] = df['High'].rolling(window=22).max() - (3 * df['ATR_14'])\n",
    "    df['Chandelier_Exit_Short'] = df['Low'].rolling(window=22).min() + (3 * df['ATR_14'])\n",
    "\n",
    "    # Volume Weighted Average Price (VWAP)\n",
    "    df['VWAP'] = (df['Close'] * df['Volume']).cumsum() / df['Volume'].cumsum()\n",
    "\n",
    "    return df\n"
   ]
  },
  {
   "cell_type": "code",
   "execution_count": 13,
   "metadata": {},
   "outputs": [],
   "source": [
    "# Fetch Live Data Function\n",
    "def fetch_live_data(symbol, timeframe, num_bars):\n",
    "    rates = mt5.copy_rates_from_pos(symbol, timeframe, 0, num_bars)\n",
    "    if rates is None:\n",
    "        print(f\"Failed to fetch data for {symbol}: {mt5.last_error()}\")\n",
    "        return None\n",
    "    data = pd.DataFrame(rates)\n",
    "    data['time'] = pd.to_datetime(data['time'], unit='s')  # Convert timestamp to datetime\n",
    "    return data\n"
   ]
  },
  {
   "cell_type": "code",
   "execution_count": null,
   "metadata": {},
   "outputs": [
    {
     "name": "stdout",
     "output_type": "stream",
     "text": [
      "Failed to fetch data for EURUSD: (-10004, 'No IPC connection')\n",
      "Skipping prediction due to data fetch error.\n",
      "Failed to fetch data for EURUSD: (-10004, 'No IPC connection')\n",
      "Skipping prediction due to data fetch error.\n",
      "Failed to fetch data for EURUSD: (-10004, 'No IPC connection')\n",
      "Skipping prediction due to data fetch error.\n",
      "Failed to fetch data for EURUSD: (-10004, 'No IPC connection')\n",
      "Skipping prediction due to data fetch error.\n",
      "Failed to fetch data for EURUSD: (-10004, 'No IPC connection')\n",
      "Skipping prediction due to data fetch error.\n",
      "Failed to fetch data for EURUSD: (-10004, 'No IPC connection')\n",
      "Skipping prediction due to data fetch error.\n",
      "Failed to fetch data for EURUSD: (-10004, 'No IPC connection')\n",
      "Skipping prediction due to data fetch error.\n",
      "Failed to fetch data for EURUSD: (-10004, 'No IPC connection')\n",
      "Skipping prediction due to data fetch error.\n",
      "Failed to fetch data for EURUSD: (-10004, 'No IPC connection')\n",
      "Skipping prediction due to data fetch error.\n",
      "Failed to fetch data for EURUSD: (-10004, 'No IPC connection')\n",
      "Skipping prediction due to data fetch error.\n"
     ]
    }
   ],
   "source": [
    "\n",
    "# Main Prediction Loop\n",
    "try:\n",
    "    while True:\n",
    "        # Step 1: Fetch live data\n",
    "        data = fetch_live_data(symbol, timeframe, num_bars)\n",
    "        if data is None:\n",
    "            print(\"Skipping prediction due to data fetch error.\")\n",
    "            sleep(60)\n",
    "            continue\n",
    "        \n",
    "        # Step 2: Preprocess and add indicators\n",
    "        data = data.rename(columns={\"time\": \"DateTime\", \"open\": \"Open\", \"high\": \"High\", \n",
    "                                     \"low\": \"Low\", \"close\": \"Close\", \"tick_volume\": \"Volume\"})\n",
    "        data = add_indicators(data)\n",
    "        data.dropna(inplace=True)  # Drop rows with missing values\n",
    "        \n",
    "        # Step 3: Prepare features for prediction\n",
    "        features = ['EMA_5', 'EMA_15', 'BB_Middle', 'BB_Upper', 'BB_Lower', \n",
    "                    'MACD', 'MACD_Signal']  # Include the features used in model training\n",
    "        X = data[features].iloc[-1:]  # Use the most recent row for prediction\n",
    "        \n",
    "        # Step 4: Predict with the Random Forest model\n",
    "        prediction = model.predict(X)\n",
    "        decision = \"Buy\" if prediction[0] == 1 else \"Sell\"\n",
    "        print(f\"Prediction for {symbol}: {decision}\")\n",
    "        \n",
    "        # Wait for the next 1-minute candle\n",
    "        sleep(60)\n",
    "        \n",
    "except KeyboardInterrupt:\n",
    "    print(\"Bot stopped manually\")\n",
    "finally:\n",
    "    mt5.shutdown()\n",
    "\n"
   ]
  },
  {
   "cell_type": "code",
   "execution_count": null,
   "metadata": {},
   "outputs": [],
   "source": []
  },
  {
   "cell_type": "code",
   "execution_count": null,
   "metadata": {},
   "outputs": [],
   "source": []
  }
 ],
 "metadata": {
  "kernelspec": {
   "display_name": "base",
   "language": "python",
   "name": "python3"
  },
  "language_info": {
   "codemirror_mode": {
    "name": "ipython",
    "version": 3
   },
   "file_extension": ".py",
   "mimetype": "text/x-python",
   "name": "python",
   "nbconvert_exporter": "python",
   "pygments_lexer": "ipython3",
   "version": "3.11.10"
  }
 },
 "nbformat": 4,
 "nbformat_minor": 2
}
