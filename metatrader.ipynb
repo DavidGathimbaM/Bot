{
 "cells": [
  {
   "cell_type": "code",
   "execution_count": 12,
   "metadata": {},
   "outputs": [],
   "source": [
    "import MetaTrader5 as mt5\n",
    "import pandas as pd"
   ]
  },
  {
   "cell_type": "code",
   "execution_count": 13,
   "metadata": {},
   "outputs": [
    {
     "name": "stdout",
     "output_type": "stream",
     "text": [
      "MetaTrader5 initialized successfully\n"
     ]
    }
   ],
   "source": [
    "if not mt5.initialize():\n",
    "    print(\"MetaTrader5 initialization failed\")\n",
    "    mt5.shutdown()\n",
    "else:\n",
    "    print(\"MetaTrader5 initialized successfully\")"
   ]
  },
  {
   "cell_type": "code",
   "execution_count": 14,
   "metadata": {},
   "outputs": [
    {
     "name": "stdout",
     "output_type": "stream",
     "text": [
      "Account Info:\n",
      "AccountInfo(login=380645428, trade_mode=2, leverage=1000, limit_orders=300, margin_so_mode=0, trade_allowed=False, trade_expert=True, margin_mode=2, currency_digits=2, fifo_close=False, balance=0.0, credit=0.0, profit=0.0, equity=0.0, margin=0.0, margin_free=0.0, margin_level=0.0, margin_so_call=50.0, margin_so_so=20.0, margin_initial=0.0, margin_maintenance=0.0, assets=0.0, liabilities=0.0, commission_blocked=0.0, name='David Gathimba', server='XMGlobal-MT5 13', currency='USD', company='XM Global Limited')\n"
     ]
    }
   ],
   "source": [
    "account_info = mt5.account_info()\n",
    "if account_info is not None:\n",
    "    print(f\"Account Info:\\n{account_info}\")\n",
    "else:\n",
    "    print(\"Failed to retrieve account info\")"
   ]
  },
  {
   "cell_type": "markdown",
   "metadata": {},
   "source": [
    "Check symbol EURUSD availability"
   ]
  },
  {
   "cell_type": "code",
   "execution_count": 15,
   "metadata": {},
   "outputs": [
    {
     "name": "stdout",
     "output_type": "stream",
     "text": [
      "Symbol EURUSD selected successfully\n"
     ]
    }
   ],
   "source": [
    "symbol = \"EURUSD\"\n",
    "if not mt5.symbol_select(symbol, True):\n",
    "    print(f\"Failed to select symbol {symbol}\")\n",
    "else:\n",
    "    print(f\"Symbol {symbol} selected successfully\")"
   ]
  },
  {
   "cell_type": "code",
   "execution_count": 16,
   "metadata": {},
   "outputs": [],
   "source": [
    "# Define the symbol and timeframe\n",
    "# symbol = \"EURUSD\"  # Replace with your desired forex pair\n",
    "timeframe = mt5.TIMEFRAME_M1  # 1-minute timeframe\n",
    "num_bars = 10  # Number of recent data points to fetch\n"
   ]
  },
  {
   "cell_type": "code",
   "execution_count": 17,
   "metadata": {},
   "outputs": [],
   "source": [
    "# Fetch 1-minute data\n",
    "rates = mt5.copy_rates_from_pos(symbol, timeframe, 0, num_bars)"
   ]
  },
  {
   "cell_type": "code",
   "execution_count": 18,
   "metadata": {},
   "outputs": [
    {
     "name": "stdout",
     "output_type": "stream",
     "text": [
      "Successfully fetched 10 bars of data for EURUSD\n"
     ]
    }
   ],
   "source": [
    "# Check if data retrieval was successful\n",
    "if rates is None:\n",
    "    print(f\"Failed to fetch data for {symbol}: {mt5.last_error()}\")\n",
    "    mt5.shutdown()\n",
    "    exit()\n",
    "else:\n",
    "    print(f\"Successfully fetched {len(rates)} bars of data for {symbol}\")"
   ]
  },
  {
   "cell_type": "code",
   "execution_count": 19,
   "metadata": {},
   "outputs": [],
   "source": [
    "# Convert to a DataFrame for easier handling\n",
    "data = pd.DataFrame(rates)\n",
    "data['time'] = pd.to_datetime(data['time'], unit='s')  # Convert timestamp to datetime"
   ]
  },
  {
   "cell_type": "code",
   "execution_count": 20,
   "metadata": {},
   "outputs": [
    {
     "name": "stdout",
     "output_type": "stream",
     "text": [
      "                 time     open     high      low    close  tick_volume  \\\n",
      "0 2025-01-17 18:38:00  1.02968  1.02969  1.02953  1.02955           57   \n",
      "1 2025-01-17 18:39:00  1.02956  1.02956  1.02922  1.02926           66   \n",
      "2 2025-01-17 18:40:00  1.02924  1.02953  1.02924  1.02950           88   \n",
      "3 2025-01-17 18:41:00  1.02949  1.02957  1.02940  1.02955           63   \n",
      "4 2025-01-17 18:42:00  1.02954  1.02990  1.02951  1.02980           79   \n",
      "5 2025-01-17 18:43:00  1.02975  1.02981  1.02970  1.02974           55   \n",
      "6 2025-01-17 18:44:00  1.02974  1.02988  1.02973  1.02978           62   \n",
      "7 2025-01-17 18:45:00  1.02976  1.02982  1.02964  1.02969           32   \n",
      "8 2025-01-17 18:46:00  1.02970  1.02979  1.02966  1.02979           38   \n",
      "9 2025-01-17 18:47:00  1.02979  1.02980  1.02971  1.02972           31   \n",
      "\n",
      "   spread  real_volume  \n",
      "0      17            0  \n",
      "1      17            0  \n",
      "2      17            0  \n",
      "3      18            0  \n",
      "4      17            0  \n",
      "5      17            0  \n",
      "6      17            0  \n",
      "7      17            0  \n",
      "8      18            0  \n",
      "9      19            0  \n"
     ]
    }
   ],
   "source": [
    "# Display the data\n",
    "print(data)"
   ]
  },
  {
   "cell_type": "code",
   "execution_count": null,
   "metadata": {},
   "outputs": [],
   "source": []
  }
 ],
 "metadata": {
  "kernelspec": {
   "display_name": "base",
   "language": "python",
   "name": "python3"
  },
  "language_info": {
   "codemirror_mode": {
    "name": "ipython",
    "version": 3
   },
   "file_extension": ".py",
   "mimetype": "text/x-python",
   "name": "python",
   "nbconvert_exporter": "python",
   "pygments_lexer": "ipython3",
   "version": "3.11.10"
  }
 },
 "nbformat": 4,
 "nbformat_minor": 2
}
