{
 "cells": [
  {
   "cell_type": "code",
   "execution_count": 21,
   "metadata": {},
   "outputs": [],
   "source": [
    "import MetaTrader5 as mt5\n",
    "import pandas as pd"
   ]
  },
  {
   "cell_type": "code",
   "execution_count": 22,
   "metadata": {},
   "outputs": [
    {
     "name": "stdout",
     "output_type": "stream",
     "text": [
      "MetaTrader5 initialized successfully\n"
     ]
    }
   ],
   "source": [
    "if not mt5.initialize():\n",
    "    print(\"MetaTrader5 initialization failed\")\n",
    "    mt5.shutdown()\n",
    "else:\n",
    "    print(\"MetaTrader5 initialized successfully\")"
   ]
  },
  {
   "cell_type": "code",
   "execution_count": 23,
   "metadata": {},
   "outputs": [
    {
     "name": "stdout",
     "output_type": "stream",
     "text": [
      "Account Info:\n",
      "AccountInfo(login=380645428, trade_mode=2, leverage=1000, limit_orders=300, margin_so_mode=0, trade_allowed=False, trade_expert=True, margin_mode=2, currency_digits=2, fifo_close=False, balance=0.0, credit=0.0, profit=0.0, equity=0.0, margin=0.0, margin_free=0.0, margin_level=0.0, margin_so_call=50.0, margin_so_so=20.0, margin_initial=0.0, margin_maintenance=0.0, assets=0.0, liabilities=0.0, commission_blocked=0.0, name='David Gathimba', server='XMGlobal-MT5 13', currency='USD', company='XM Global Limited')\n"
     ]
    }
   ],
   "source": [
    "account_info = mt5.account_info()\n",
    "if account_info is not None:\n",
    "    print(f\"Account Info:\\n{account_info}\")\n",
    "else:\n",
    "    print(\"Failed to retrieve account info\")"
   ]
  },
  {
   "cell_type": "markdown",
   "metadata": {},
   "source": [
    "Check symbol EURUSD availability"
   ]
  },
  {
   "cell_type": "code",
   "execution_count": 24,
   "metadata": {},
   "outputs": [
    {
     "name": "stdout",
     "output_type": "stream",
     "text": [
      "Symbol EURUSD selected successfully\n"
     ]
    }
   ],
   "source": [
    "symbol = \"EURUSD\"\n",
    "if not mt5.symbol_select(symbol, True):\n",
    "    print(f\"Failed to select symbol {symbol}\")\n",
    "else:\n",
    "    print(f\"Symbol {symbol} selected successfully\")"
   ]
  },
  {
   "cell_type": "code",
   "execution_count": 25,
   "metadata": {},
   "outputs": [],
   "source": [
    "# Define the symbol and timeframe\n",
    "# symbol = \"EURUSD\"  # Replace with your desired forex pair\n",
    "timeframe = mt5.TIMEFRAME_M1  # 1-minute timeframe\n",
    "num_bars = 10  # Number of recent data points to fetch\n"
   ]
  },
  {
   "cell_type": "code",
   "execution_count": 26,
   "metadata": {},
   "outputs": [],
   "source": [
    "# Fetch 1-minute data\n",
    "rates = mt5.copy_rates_from_pos(symbol, timeframe, 0, num_bars)"
   ]
  },
  {
   "cell_type": "code",
   "execution_count": 27,
   "metadata": {},
   "outputs": [
    {
     "name": "stdout",
     "output_type": "stream",
     "text": [
      "Successfully fetched 10 bars of data for EURUSD\n"
     ]
    }
   ],
   "source": [
    "# Check if data retrieval was successful\n",
    "if rates is None:\n",
    "    print(f\"Failed to fetch data for {symbol}: {mt5.last_error()}\")\n",
    "    mt5.shutdown()\n",
    "    exit()\n",
    "else:\n",
    "    print(f\"Successfully fetched {len(rates)} bars of data for {symbol}\")"
   ]
  },
  {
   "cell_type": "code",
   "execution_count": 28,
   "metadata": {},
   "outputs": [],
   "source": [
    "# Convert to a DataFrame for easier handling\n",
    "data = pd.DataFrame(rates)\n",
    "data['time'] = pd.to_datetime(data['time'], unit='s')  # Convert timestamp to datetime"
   ]
  },
  {
   "cell_type": "code",
   "execution_count": 29,
   "metadata": {},
   "outputs": [
    {
     "name": "stdout",
     "output_type": "stream",
     "text": [
      "                 time     open     high      low    close  tick_volume  \\\n",
      "0 2025-01-17 19:09:00  1.02813  1.02831  1.02813  1.02826           56   \n",
      "1 2025-01-17 19:10:00  1.02826  1.02827  1.02801  1.02804           69   \n",
      "2 2025-01-17 19:11:00  1.02805  1.02834  1.02805  1.02827           63   \n",
      "3 2025-01-17 19:12:00  1.02826  1.02860  1.02826  1.02856           87   \n",
      "4 2025-01-17 19:13:00  1.02856  1.02868  1.02855  1.02857           45   \n",
      "5 2025-01-17 19:14:00  1.02856  1.02876  1.02856  1.02872           59   \n",
      "6 2025-01-17 19:15:00  1.02872  1.02885  1.02869  1.02878           83   \n",
      "7 2025-01-17 19:16:00  1.02880  1.02898  1.02878  1.02893           60   \n",
      "8 2025-01-17 19:17:00  1.02892  1.02901  1.02881  1.02898           52   \n",
      "9 2025-01-17 19:18:00  1.02900  1.02901  1.02888  1.02890           15   \n",
      "\n",
      "   spread  real_volume  \n",
      "0      17            0  \n",
      "1      17            0  \n",
      "2      17            0  \n",
      "3      18            0  \n",
      "4      17            0  \n",
      "5      17            0  \n",
      "6      17            0  \n",
      "7      17            0  \n",
      "8      18            0  \n",
      "9      17            0  \n"
     ]
    }
   ],
   "source": [
    "# Display the data\n",
    "print(data)"
   ]
  },
  {
   "cell_type": "code",
   "execution_count": null,
   "metadata": {},
   "outputs": [],
   "source": []
  }
 ],
 "metadata": {
  "kernelspec": {
   "display_name": "base",
   "language": "python",
   "name": "python3"
  },
  "language_info": {
   "codemirror_mode": {
    "name": "ipython",
    "version": 3
   },
   "file_extension": ".py",
   "mimetype": "text/x-python",
   "name": "python",
   "nbconvert_exporter": "python",
   "pygments_lexer": "ipython3",
   "version": "3.11.10"
  }
 },
 "nbformat": 4,
 "nbformat_minor": 2
}
